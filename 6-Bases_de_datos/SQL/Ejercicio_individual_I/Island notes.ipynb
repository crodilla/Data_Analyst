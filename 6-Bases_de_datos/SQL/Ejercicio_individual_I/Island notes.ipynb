{
 "cells": [
  {
   "attachments": {},
   "cell_type": "markdown",
   "metadata": {},
   "source": [
    "# SQL island\n",
    "## Queus of the game"
   ]
  },
  {
   "cell_type": "code",
   "execution_count": null,
   "metadata": {},
   "outputs": [],
   "source": [
    "SELECT * FROM village\n",
    "SELECT * FROM inhabitant\n",
    "SELECT * FROM inhabitant WHERE job = 'butcher'\n",
    "SELECT * FROM inhabitant WHERE state = \"friendly\"\n",
    "SELECT * FROM inhabitant WHERE state = \"friendly\" AND job=\"weaponsmith\"\n",
    "SELECT * FROM inhabitant WHERE state = \"friendly\" AND job LIKE \"%smith\"\n",
    "INSERT INTO inhabitant (name, villageid, gender, job, gold, state) VALUES ('Stranger', 1, '?', '?', 0, '?')\n",
    "SELECT personid FROM inhabitant WHERE villageid = 1 AND gold = 0\n",
    "SELECT * FROM item WHERE owner IS NULL\n",
    "UPDATE item SET owner = 20 WHERE item = 'coffee cup'\n",
    "UPDATE item SET owner = 20 WHERE owner IS NULL\n",
    "SELECT * FROM item WHERE owner = 20\n",
    "SELECT * FROM inhabitant WHERE state = \"friendly\" AND (job = \"dealer\" OR job = \"merchant\")\n",
    "UPDATE item SET owner = 15 WHERE item IN (SELECT item FROM ITEM WHERE item = \"ring\" OR item = \"teapot\")\n",
    "UPDATE inhabitant SET gold = gold + 120 WHERE personid = 20\n",
    "UPDATE inhabitant SET name = \"CR\" WHERE personid = 20\n",
    "SELECT * FROM inhabitant WHERE job = \"baker\" ORDER BY gold DESC\n",
    "UPDATE inhabitant SET gold = gold + 100 - 150 WHERE personid = 20\n",
    "INSERT INTO item (item, owner) VALUES ('sword', 20)\n",
    "SELECT * FROM inhabitant WHERE job = \"pilot\"\n",
    "SELECT village.name FROM village, inhabitant WHERE village.villageid = inhabitant.villageid AND inhabitant.name = 'Dirty Dieter'\n",
    "SELECT inhabitant.name FROM village, inhabitant WHERE village.chief = inhabitant.personid AND village.name = \"Onionville\" \n",
    "SELECT COUNT(*) FROM inhabitant, village WHERE village.villageid = inhabitant.villageid AND village.name = 'Onionville'\n",
    "SELECT COUNT(*) FROM inhabitant, village WHERE village.villageid = inhabitant.villageid AND village.name = 'Onionville' AND inhabitant.gender = \"f\"\n",
    "SELECT inhabitant.name FROM inhabitant, village WHERE village.villageid = inhabitant.villageid AND village.name = 'Onionville' AND inhabitant.gender = \"f\"\n",
    "SELECT SUM(inhabitant.gold) FROM inhabitant, village WHERE village.villageid = inhabitant.villageid AND village.name = 'Cucumbertown'\n",
    "SELECT SUM(inhabitant.gold) FROM inhabitant WHERE job = \"baker\" OR job = \"dealer\" OR job = \"merchant\"\n",
    "SELECT job, SUM(inhabitant.gold), AVG(inhabitant.gold) FROM inhabitant GROUP BY job ORDER BY AVG(inhabitant.gold)\n",
    "SELECT state, AVG(inhabitant.gold) FROM inhabitant GROUP BY state ORDER BY AVG(inhabitant.gold)\n",
    "DELETE FROM inhabitant WHERE name = 'Dirty Dieter'\n",
    "UPDATE inhabitant SET state = \"friendly\" WHERE job = \"pilot\"\n",
    "UPDATE inhabitant SET state = 'emigrated' WHERE personid = 20\n"
   ]
  }
 ],
 "metadata": {
  "language_info": {
   "name": "python"
  },
  "orig_nbformat": 4
 },
 "nbformat": 4,
 "nbformat_minor": 2
}
